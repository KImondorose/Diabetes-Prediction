{
 "cells": [
  {
   "cell_type": "markdown",
   "id": "0ea548d4",
   "metadata": {},
   "source": [
    "# 📊 Phoenix KE Mentorship Program - Data Science Tier 2 Case Study: Diabetes Risk Prediction\n",
    "### Author: Rose Kimondo\n",
    "### Date: April 22, 2025\n"
   ]
  },
  {
   "cell_type": "markdown",
   "id": "3344546a",
   "metadata": {},
   "source": [
    "# Introduction\n",
    "\n",
    "This case study is part of the Phoenix KE Mentorship Program application for the Data Science track.\n",
    "We aim to develop a predictive model to assess whether an individual is at risk of developing diabetes.\n",
    "The dataset contains various health and lifestyle features. We will use machine learning classification models to predict diabetes risk.\n"
   ]
  },
  {
   "cell_type": "markdown",
   "id": "de2ea9a3",
   "metadata": {},
   "source": [
    "# Problem Statement\n",
    "A health tech startup wants to build a predictive system that can identify individuals at risk of diabetes. The goal is to use patient data to flag high-risk individuals early, enabling early intervention."
   ]
  },
  {
   "cell_type": "markdown",
   "id": "21764152",
   "metadata": {},
   "source": [
    "# Business Relevance\n",
    "Diabetes is a growing global concern, contributing significantly to healthcare costs. By predicting who is at risk, the startup can:\n",
    "- Help clinicians target early interventions\n",
    "- Improve patient outcomes\n",
    "- Reduce long-term treatment costs\n",
    "- Build a foundation for personalized health recommendations\n",
    "\n"
   ]
  },
  {
   "cell_type": "markdown",
   "id": "7e5461d1",
   "metadata": {},
   "source": [
    "# Objectives\n",
    "1. Explore and understand the dataset\n",
    "2. Engineer new features to enhance predictive power\n",
    "3. Train classification models to predict diabetes risk\n",
    "4. Evaluate and compare model performance\n",
    "5. Interpret key predictors for stakeholder insights"
   ]
  },
  {
   "cell_type": "markdown",
   "id": "d2fea142",
   "metadata": {},
   "source": [
    "# Data Understanding\n",
    "The dataset contains the following columns:\n",
    "- Age: Age of the patient (in years)\n",
    "- BMI: Body Mass Index\n",
    "- Blood Pressure: Average blood pressure reading\n",
    "- Glucose Level: Fasting blood glucose\n",
    "- Insulin Level: Fasting insulin level\n",
    "- Physical Activity Score: Categorical score from 1 (low activity) to 9 (high activity)\n",
    "- Diabetes: Target variable (Yes/No)"
   ]
  },
  {
   "cell_type": "markdown",
   "id": "c1749796",
   "metadata": {},
   "source": [
    "# Data Import and Exploration"
   ]
  },
  {
   "cell_type": "code",
   "execution_count": 56,
   "id": "98770f9f",
   "metadata": {},
   "outputs": [],
   "source": [
    "import pandas as pd\n",
    "import seaborn as sns\n",
    "import matplotlib.pyplot as plt"
   ]
  },
  {
   "cell_type": "code",
   "execution_count": 57,
   "id": "d39efb5e",
   "metadata": {},
   "outputs": [
    {
     "data": {
      "text/html": [
       "<div>\n",
       "<style scoped>\n",
       "    .dataframe tbody tr th:only-of-type {\n",
       "        vertical-align: middle;\n",
       "    }\n",
       "\n",
       "    .dataframe tbody tr th {\n",
       "        vertical-align: top;\n",
       "    }\n",
       "\n",
       "    .dataframe thead th {\n",
       "        text-align: right;\n",
       "    }\n",
       "</style>\n",
       "<table border=\"1\" class=\"dataframe\">\n",
       "  <thead>\n",
       "    <tr style=\"text-align: right;\">\n",
       "      <th></th>\n",
       "      <th>Age</th>\n",
       "      <th>BMI</th>\n",
       "      <th>Blood Pressure</th>\n",
       "      <th>Glucose Level</th>\n",
       "      <th>Insulin Level</th>\n",
       "      <th>Physical Activity Score</th>\n",
       "      <th>Diabetes</th>\n",
       "    </tr>\n",
       "  </thead>\n",
       "  <tbody>\n",
       "    <tr>\n",
       "      <th>0</th>\n",
       "      <td>38</td>\n",
       "      <td>17.6</td>\n",
       "      <td>71.4</td>\n",
       "      <td>111.4</td>\n",
       "      <td>131.3</td>\n",
       "      <td>5</td>\n",
       "      <td>No</td>\n",
       "    </tr>\n",
       "    <tr>\n",
       "      <th>1</th>\n",
       "      <td>37</td>\n",
       "      <td>25.5</td>\n",
       "      <td>91.3</td>\n",
       "      <td>97.2</td>\n",
       "      <td>116.1</td>\n",
       "      <td>9</td>\n",
       "      <td>No</td>\n",
       "    </tr>\n",
       "    <tr>\n",
       "      <th>2</th>\n",
       "      <td>43</td>\n",
       "      <td>19.0</td>\n",
       "      <td>77.3</td>\n",
       "      <td>90.0</td>\n",
       "      <td>121.4</td>\n",
       "      <td>4</td>\n",
       "      <td>No</td>\n",
       "    </tr>\n",
       "    <tr>\n",
       "      <th>3</th>\n",
       "      <td>21</td>\n",
       "      <td>30.9</td>\n",
       "      <td>72.2</td>\n",
       "      <td>88.0</td>\n",
       "      <td>122.8</td>\n",
       "      <td>1</td>\n",
       "      <td>No</td>\n",
       "    </tr>\n",
       "    <tr>\n",
       "      <th>4</th>\n",
       "      <td>63</td>\n",
       "      <td>32.3</td>\n",
       "      <td>87.3</td>\n",
       "      <td>135.0</td>\n",
       "      <td>71.5</td>\n",
       "      <td>4</td>\n",
       "      <td>No</td>\n",
       "    </tr>\n",
       "  </tbody>\n",
       "</table>\n",
       "</div>"
      ],
      "text/plain": [
       "   Age   BMI  Blood Pressure  Glucose Level  Insulin Level  \\\n",
       "0   38  17.6            71.4          111.4          131.3   \n",
       "1   37  25.5            91.3           97.2          116.1   \n",
       "2   43  19.0            77.3           90.0          121.4   \n",
       "3   21  30.9            72.2           88.0          122.8   \n",
       "4   63  32.3            87.3          135.0           71.5   \n",
       "\n",
       "   Physical Activity Score Diabetes  \n",
       "0                        5       No  \n",
       "1                        9       No  \n",
       "2                        4       No  \n",
       "3                        1       No  \n",
       "4                        4       No  "
      ]
     },
     "execution_count": 57,
     "metadata": {},
     "output_type": "execute_result"
    }
   ],
   "source": [
    "# Load dataset\n",
    "df = pd.read_csv('diabetes_data.csv')\n",
    "# Viewing the first five columns\n",
    "df.head()"
   ]
  },
  {
   "cell_type": "markdown",
   "id": "6093cc52",
   "metadata": {},
   "source": [
    "# EDA"
   ]
  },
  {
   "cell_type": "code",
   "execution_count": 58,
   "id": "8f4d2d4d",
   "metadata": {},
   "outputs": [
    {
     "name": "stdout",
     "output_type": "stream",
     "text": [
      "<class 'pandas.core.frame.DataFrame'>\n",
      "RangeIndex: 300 entries, 0 to 299\n",
      "Data columns (total 7 columns):\n",
      " #   Column                   Non-Null Count  Dtype  \n",
      "---  ------                   --------------  -----  \n",
      " 0   Age                      300 non-null    int64  \n",
      " 1   BMI                      300 non-null    float64\n",
      " 2   Blood Pressure           300 non-null    float64\n",
      " 3   Glucose Level            300 non-null    float64\n",
      " 4   Insulin Level            300 non-null    float64\n",
      " 5   Physical Activity Score  300 non-null    int64  \n",
      " 6   Diabetes                 300 non-null    object \n",
      "dtypes: float64(4), int64(2), object(1)\n",
      "memory usage: 16.5+ KB\n"
     ]
    }
   ],
   "source": [
    "# Basic structure\n",
    "df.info() # Displays data types and non-null counts"
   ]
  },
  {
   "cell_type": "markdown",
   "id": "73c73a65",
   "metadata": {},
   "source": [
    "- There are seven columns in total, with 300 rows. \n",
    "- All the columns except Diabetes are numeric. \n",
    "- However, Physical Activity Score is of the numeric categorical data type, with each number representing a score of physical activity. "
   ]
  },
  {
   "cell_type": "code",
   "execution_count": 59,
   "id": "ef3498d4",
   "metadata": {},
   "outputs": [
    {
     "data": {
      "text/html": [
       "<div>\n",
       "<style scoped>\n",
       "    .dataframe tbody tr th:only-of-type {\n",
       "        vertical-align: middle;\n",
       "    }\n",
       "\n",
       "    .dataframe tbody tr th {\n",
       "        vertical-align: top;\n",
       "    }\n",
       "\n",
       "    .dataframe thead th {\n",
       "        text-align: right;\n",
       "    }\n",
       "</style>\n",
       "<table border=\"1\" class=\"dataframe\">\n",
       "  <thead>\n",
       "    <tr style=\"text-align: right;\">\n",
       "      <th></th>\n",
       "      <th>Age</th>\n",
       "      <th>BMI</th>\n",
       "      <th>Blood Pressure</th>\n",
       "      <th>Glucose Level</th>\n",
       "      <th>Insulin Level</th>\n",
       "      <th>Physical Activity Score</th>\n",
       "    </tr>\n",
       "  </thead>\n",
       "  <tbody>\n",
       "    <tr>\n",
       "      <th>count</th>\n",
       "      <td>300.000000</td>\n",
       "      <td>300.000000</td>\n",
       "      <td>300.000000</td>\n",
       "      <td>300.000000</td>\n",
       "      <td>300.00000</td>\n",
       "      <td>300.000000</td>\n",
       "    </tr>\n",
       "    <tr>\n",
       "      <th>mean</th>\n",
       "      <td>48.800000</td>\n",
       "      <td>26.959000</td>\n",
       "      <td>79.422333</td>\n",
       "      <td>109.900667</td>\n",
       "      <td>99.56200</td>\n",
       "      <td>5.043333</td>\n",
       "    </tr>\n",
       "    <tr>\n",
       "      <th>std</th>\n",
       "      <td>18.003901</td>\n",
       "      <td>5.140724</td>\n",
       "      <td>9.995066</td>\n",
       "      <td>19.533576</td>\n",
       "      <td>28.75657</td>\n",
       "      <td>2.441583</td>\n",
       "    </tr>\n",
       "    <tr>\n",
       "      <th>min</th>\n",
       "      <td>18.000000</td>\n",
       "      <td>14.900000</td>\n",
       "      <td>45.300000</td>\n",
       "      <td>56.300000</td>\n",
       "      <td>0.30000</td>\n",
       "      <td>1.000000</td>\n",
       "    </tr>\n",
       "    <tr>\n",
       "      <th>25%</th>\n",
       "      <td>34.000000</td>\n",
       "      <td>23.475000</td>\n",
       "      <td>72.775000</td>\n",
       "      <td>96.000000</td>\n",
       "      <td>79.65000</td>\n",
       "      <td>3.000000</td>\n",
       "    </tr>\n",
       "    <tr>\n",
       "      <th>50%</th>\n",
       "      <td>48.500000</td>\n",
       "      <td>26.900000</td>\n",
       "      <td>79.950000</td>\n",
       "      <td>110.250000</td>\n",
       "      <td>99.25000</td>\n",
       "      <td>5.000000</td>\n",
       "    </tr>\n",
       "    <tr>\n",
       "      <th>75%</th>\n",
       "      <td>64.000000</td>\n",
       "      <td>30.625000</td>\n",
       "      <td>86.475000</td>\n",
       "      <td>124.050000</td>\n",
       "      <td>120.55000</td>\n",
       "      <td>7.000000</td>\n",
       "    </tr>\n",
       "    <tr>\n",
       "      <th>max</th>\n",
       "      <td>79.000000</td>\n",
       "      <td>40.700000</td>\n",
       "      <td>106.300000</td>\n",
       "      <td>154.400000</td>\n",
       "      <td>191.90000</td>\n",
       "      <td>9.000000</td>\n",
       "    </tr>\n",
       "  </tbody>\n",
       "</table>\n",
       "</div>"
      ],
      "text/plain": [
       "              Age         BMI  Blood Pressure  Glucose Level  Insulin Level  \\\n",
       "count  300.000000  300.000000      300.000000     300.000000      300.00000   \n",
       "mean    48.800000   26.959000       79.422333     109.900667       99.56200   \n",
       "std     18.003901    5.140724        9.995066      19.533576       28.75657   \n",
       "min     18.000000   14.900000       45.300000      56.300000        0.30000   \n",
       "25%     34.000000   23.475000       72.775000      96.000000       79.65000   \n",
       "50%     48.500000   26.900000       79.950000     110.250000       99.25000   \n",
       "75%     64.000000   30.625000       86.475000     124.050000      120.55000   \n",
       "max     79.000000   40.700000      106.300000     154.400000      191.90000   \n",
       "\n",
       "       Physical Activity Score  \n",
       "count               300.000000  \n",
       "mean                  5.043333  \n",
       "std                   2.441583  \n",
       "min                   1.000000  \n",
       "25%                   3.000000  \n",
       "50%                   5.000000  \n",
       "75%                   7.000000  \n",
       "max                   9.000000  "
      ]
     },
     "execution_count": 59,
     "metadata": {},
     "output_type": "execute_result"
    }
   ],
   "source": [
    "df.describe() # Summary statistics for numeric columns"
   ]
  },
  {
   "cell_type": "markdown",
   "id": "779dd36e",
   "metadata": {},
   "source": [
    "- Some of the statistics that can be observed include the average age (48.8 years), Average Glucose level (99.56), and average blood pressure (79.42).\n",
    "- However, there are some issues that stand out which could be errors or inconsistencies. For example, the minimum insulin level is 0.3 while the maximum is 191, and mean is 99.56. This minimum could be an error and will need to be assessed later. "
   ]
  },
  {
   "cell_type": "code",
   "execution_count": 60,
   "id": "f4f45c6b",
   "metadata": {},
   "outputs": [
    {
     "data": {
      "text/plain": [
       "Age                        0\n",
       "BMI                        0\n",
       "Blood Pressure             0\n",
       "Glucose Level              0\n",
       "Insulin Level              0\n",
       "Physical Activity Score    0\n",
       "Diabetes                   0\n",
       "dtype: int64"
      ]
     },
     "execution_count": 60,
     "metadata": {},
     "output_type": "execute_result"
    }
   ],
   "source": [
    "# Checking for missing values\n",
    "missing = df.isnull().sum()\n",
    "missing"
   ]
  },
  {
   "cell_type": "markdown",
   "id": "f61b3e0c",
   "metadata": {},
   "source": [
    "From the check for missing values, there are no missing values in the dataset."
   ]
  },
  {
   "cell_type": "code",
   "execution_count": 61,
   "id": "d815ac1b",
   "metadata": {},
   "outputs": [
    {
     "name": "stdout",
     "output_type": "stream",
     "text": [
      "                         Missing Values  Percent\n",
      "Age                                   0      0.0\n",
      "BMI                                   0      0.0\n",
      "Blood Pressure                        0      0.0\n",
      "Glucose Level                         0      0.0\n",
      "Insulin Level                         0      0.0\n",
      "Physical Activity Score               0      0.0\n",
      "Diabetes                              0      0.0\n"
     ]
    }
   ],
   "source": [
    "# Confirming that there are no missing values\n",
    "missing_percent = (missing / len(df)) * 100\n",
    "print(pd.DataFrame({'Missing Values': missing, 'Percent': missing_percent}))"
   ]
  },
  {
   "cell_type": "markdown",
   "id": "844c540e",
   "metadata": {},
   "source": [
    "Confirmed that there are no missing values. Using the percentage is a good way to figure out the impact that the missing values would have on the overall fields."
   ]
  },
  {
   "cell_type": "code",
   "execution_count": 62,
   "id": "55f24e8e",
   "metadata": {},
   "outputs": [
    {
     "data": {
      "image/png": "[encoded data removed]",
      "text/plain": [
       "<Figure size 1000x600 with 1 Axes>"
      ]
     },
     "metadata": {},
     "output_type": "display_data"
    },
    {
     "data": {
      "image/png": "[encoded data removed]",
      "text/plain": [
       "<Figure size 1000x600 with 1 Axes>"
      ]
     },
     "metadata": {},
     "output_type": "display_data"
    },
    {
     "data": {
      "image/png": "[encoded data removed]",
      "text/plain": [
       "<Figure size 1000x600 with 1 Axes>"
      ]
     },
     "metadata": {},
     "output_type": "display_data"
    },
    {
     "data": {
      "image/png": "[encoded data removed]",
      "text/plain": [
       "<Figure size 1000x600 with 1 Axes>"
      ]
     },
     "metadata": {},
     "output_type": "display_data"
    },
    {
     "data": {
      "image/png": "[encoded data removed]",
      "text/plain": [
       "<Figure size 1000x600 with 1 Axes>"
      ]
     },
     "metadata": {},
     "output_type": "display_data"
    }
   ],
   "source": [
    "# Distribution plots for numerical features\n",
    "for col in ['Age', 'BMI', 'Blood Pressure', 'Glucose Level', 'Insulin Level']:\n",
    "    plt.figure(figsize=(10, 6))\n",
    "    sns.histplot(data=df, x=col, hue='Diabetes', kde=False, multiple='dodge', shrink=0.8 )\n",
    "    plt.title(f'Distribution of {col}')\n",
    "    plt.show()"
   ]
  },
  {
   "cell_type": "markdown",
   "id": "60d67ab9",
   "metadata": {},
   "source": [
    "The plots show individuals with and without diabetes across all the numerical continuous features (`Age`, `BMI`, `Blood Pressure`, `Glucose Level`, `Insulin Level`)<br>\n",
    "The histograms present the frequency distribution of the features and seperates individuals into those without diabetes ('No', blue bars) and those with diabetes ('Yes', orange bars), using side-by-side bars for comparison within each range (bin).<br>\n",
    "\n",
    "**1. Age:** <br>\n",
    "- By comparing the heights of the orange bars (Diabetes: Yes) to the blue bars (Diabetes: No) across the age spectrum, we can observe a trend. While the absolute count of non-diabetics is often higher, the count and proportion of diabetics (orange bars) appear to increase notably in the middle-aged and older groups compared to the younger groups<br>\n",
    "\n",
    "**2. BMI:**<br>\n",
    "- At lower BMIs (e.g., below ~22), the count of individuals with diabetes (orange) is relatively low compared to those without (blue).<br>\n",
    "- As BMI increases, particularly from the mid-20s upwards, the number of individuals with diabetes (orange bars) becomes more significant, both in absolute count and often in proportion to the non-diabetics in the same BMI bin.<br>\n",
    "- The tallest orange bars (highest frequency of diabetics) seem to occur in the BMI ranges from roughly 28 to 33, overlapping with but also extending higher than the peak range for non-diabetics.<br>\n",
    "\n",
    "**3. Blood Pressure:**<br>\n",
    "- Based solely on the histogram, blood pressure (as represented here) doesn't appear to be as strong a distinguishing factor between diabetics and non-diabetics as Age or BMI were in the previous plots. While individuals with diabetes might have other cardiovascular risk factors, this specific visualization of blood pressure distribution doesn't show a dramatic difference between the two groups in this dataset. The typical blood pressure ranges seem largely overlapping for both groups.<br>\n",
    "\n",
    "**4. Glucose Level:**<br>\n",
    "- There is a very noticeable difference and separation between the glucose level distributions of the two groups.<br>\n",
    "    - Lower glucose levels (e.g., < 100) are much more characteristic of non-diabetic individuals.<br>\n",
    "    - Higher glucose levels (e.g., > 110-120) are much more characteristic of individuals with diabetes.<br>\n",
    "- The overlap range (around 90-115) shows individuals from both groups, but the balance clearly shifts from predominantly non-diabetic at the lower end to predominantly diabetic at the higher end of this range.<br>\n",
    "- This visualization demonstrates that glucose level is a very strong indicator and differentiator for diabetes status in this dataset. Unlike blood pressure which showed similar distributions, glucose levels show a distinct separation, with higher levels being strongly associated with the presence of diabetes.<br>\n",
    "\n",
    "**5. Insulin Level:**<br>\n",
    "- The most striking feature is the higher variability in insulin levels among the diabetic group compared to the non-diabetic group.<br>\n",
    "    - Non-diabetics are mostly clustered within what might be considered a normal physiological range.<br>\n",
    "    - Diabetics, on the other hand, occupy a wider spectrum – some have very low levels, while many others have levels that are normal or elevated compared to the non-diabetic peak range.<br>\n",
    "- Higher insulin levels (e.g., above 125 or 150) are more frequently observed in the diabetic group than the non-diabetic group in this sample.<br>\n",
    "- This histogram suggests that insulin levels are more varied among individuals with diabetes in this dataset. Unlike non-diabetics who show a more typical, centered distribution, diabetics can present with either very low or relatively high insulin levels. This reflects the different pathophysiologies associated with diabetes (insulin deficiency vs. insulin resistance). High insulin levels appear more commonly associated with diabetes than non-diabetes in this visual.<br>\n"
   ]
  },
  {
   "cell_type": "code",
   "execution_count": 63,
   "id": "dde4a55c",
   "metadata": {},
   "outputs": [
    {
     "data": {
      "image/png": "[encoded data removed]",
      "text/plain": [
       "<Figure size 1000x600 with 1 Axes>"
      ]
     },
     "metadata": {},
     "output_type": "display_data"
    }
   ],
   "source": [
    "# Bar plot for Physical Activity Score\n",
    "plt.figure(figsize=(10, 6))\n",
    "sns.countplot(data=df, x='Physical Activity Score', hue='Diabetes')\n",
    "plt.title('Distribution of Physical Activity Score by Diabetes')\n",
    "plt.show() # Shows frequency of activity scores split by diabetes"
   ]
  },
  {
   "cell_type": "markdown",
   "id": "a3279827",
   "metadata": {},
   "source": [
    "An visualization of the physical activity scores with the count within each score category based on the diabetes status ('No'(blue), 'Yes'(Orange)) shows that:<br>\n",
    "- At lower physical activity scores (e.g., scores 1, 3, 4, 5, 6), the orange bars (diabetics) are relatively prominent. There are substantial numbers of individuals with diabetes reporting these lower-to-mid activity levels.<br>\n",
    "- At higher physical activity scores (e.g., scores 7, 8, 9), the orange bars (diabetics) become noticeably smaller, especially relative to the blue bars. Fewer individuals with diabetes report the highest levels of physical activity.<br>\n",
    "- This visualization suggests an inverse association between Physical Activity Score and diabetes in this dataset. Lower physical activity scores appear to be more common among individuals with diabetes, while higher physical activity scores are more characteristic of individuals without diabetes. This aligns with general health recommendations suggesting physical activity is beneficial in preventing or managing diabetes.<br>"
   ]
  },
  {
   "cell_type": "markdown",
   "id": "0bf3ca05",
   "metadata": {},
   "source": [
    "## Checking for Class Imbalance in the Traget Variable"
   ]
  },
  {
   "cell_type": "code",
   "execution_count": 66,
   "id": "0a6e165e",
   "metadata": {},
   "outputs": [
    {
     "data": {
      "text/plain": [
       "Diabetes\n",
       "No     0.696667\n",
       "Yes    0.303333\n",
       "Name: proportion, dtype: float64"
      ]
     },
     "execution_count": 66,
     "metadata": {},
     "output_type": "execute_result"
    }
   ],
   "source": [
    "df['Diabetes'].value_counts(normalize=True)"
   ]
  },
  {
   "cell_type": "markdown",
   "id": "761eef5a",
   "metadata": {},
   "source": [
    "There is a high level of imbalance, wuth the NO having 70% of the values and YES having 30% of the values. This imbalance will have to be dealt with to avoid overfitting. Let's visualize this imbalance below."
   ]
  },
  {
   "cell_type": "code",
   "execution_count": null,
   "id": "9f9f8899",
   "metadata": {},
   "outputs": [
    {
     "data": {
      "image/png": "[encoded data removed]",
      "text/plain": [
       "<Figure size 1000x600 with 1 Axes>"
      ]
     },
     "metadata": {},
     "output_type": "display_data"
    }
   ],
   "source": [
    "\n",
    "plt.figure(figsize=(10, 6))\n",
    "sns.countplot(df['Diabetes'] )\n",
    "plt.title(f'Distribution of {col}')\n",
    "plt.show()\n"
   ]
  },
  {
   "cell_type": "markdown",
   "id": "0fccc946",
   "metadata": {},
   "source": [
    "# Feature Engineering"
   ]
  },
  {
   "cell_type": "markdown",
   "id": "23fd7862",
   "metadata": {},
   "source": [
    "We create new features based on domain knowledge:\n",
    "- BMI_Age_Ratio: Ratio of BMI to Age\n",
    "- Insulin_Resistance_Index: Proxy for insulin resistance (Glucose * Insulin)"
   ]
  },
  {
   "cell_type": "code",
   "execution_count": 69,
   "id": "c95ffe03",
   "metadata": {},
   "outputs": [],
   "source": [
    "df['BMI_Age_Ratio'] = df['BMI'] / df['Age'] # Normalize BMI by age to capture age-adjusted weight\n",
    "df['Insulin_Resistance_Index'] = df['Glucose Level'] * df['Insulin Level'] # Biological marker for insulin resistance"
   ]
  },
  {
   "cell_type": "code",
   "execution_count": 70,
   "id": "20d110a9",
   "metadata": {},
   "outputs": [
    {
     "name": "stdout",
     "output_type": "stream",
     "text": [
      "STRUCTURAL OVERVIEW:\n",
      "<class 'pandas.core.series.Series'>\n",
      "RangeIndex: 300 entries, 0 to 299\n",
      "Series name: BMI_Age_Ratio\n",
      "Non-Null Count  Dtype  \n",
      "--------------  -----  \n",
      "300 non-null    float64\n",
      "dtypes: float64(1)\n",
      "memory usage: 2.5 KB\n",
      "None\n",
      "\n",
      "FIRST FIVE rows:\n",
      "0    0.463158\n",
      "1    0.689189\n",
      "2    0.441860\n",
      "3    1.471429\n",
      "4    0.512698\n",
      "Name: BMI_Age_Ratio, dtype: float64\n",
      "\n",
      "SUMMARY STATISTICS:\n",
      "count    300.000000\n",
      "mean       0.651881\n",
      "std        0.329392\n",
      "min        0.193506\n",
      "25%        0.415488\n",
      "50%        0.561380\n",
      "75%        0.778929\n",
      "max        2.255556\n",
      "Name: BMI_Age_Ratio, dtype: float64\n"
     ]
    }
   ],
   "source": [
    "# Structural Overview, viewing the first five rows, and summary statistics for BMI_Age_Ratio\n",
    "print(\"STRUCTURAL OVERVIEW:\")\n",
    "print(df['BMI_Age_Ratio'].info())\n",
    "print()\n",
    "print(\"FIRST FIVE rows:\")\n",
    "print(df['BMI_Age_Ratio'].head())\n",
    "print()\n",
    "print(\"SUMMARY STATISTICS:\")\n",
    "print(df['BMI_Age_Ratio'].describe())"
   ]
  },
  {
   "cell_type": "code",
   "execution_count": 71,
   "id": "0e5754bb",
   "metadata": {},
   "outputs": [
    {
     "name": "stdout",
     "output_type": "stream",
     "text": [
      "STRUCTURAL OVERVIEW:\n",
      "<class 'pandas.core.series.Series'>\n",
      "RangeIndex: 300 entries, 0 to 299\n",
      "Series name: Insulin_Resistance_Index\n",
      "Non-Null Count  Dtype  \n",
      "--------------  -----  \n",
      "300 non-null    float64\n",
      "dtypes: float64(1)\n",
      "memory usage: 2.5 KB\n",
      "None\n",
      "\n",
      "FIRST FIVE rows:\n",
      "0    14626.82\n",
      "1    11284.92\n",
      "2    10926.00\n",
      "3    10806.40\n",
      "4     9652.50\n",
      "Name: Insulin_Resistance_Index, dtype: float64\n",
      "\n",
      "SUMMARY STATISTICS:\n",
      "count      300.000000\n",
      "mean     10949.200333\n",
      "std       3745.492266\n",
      "min         34.050000\n",
      "25%       8253.795000\n",
      "50%      10745.110000\n",
      "75%      13275.500000\n",
      "max      21389.250000\n",
      "Name: Insulin_Resistance_Index, dtype: float64\n"
     ]
    }
   ],
   "source": [
    "# Structural Overview, viewing the first five rows, and summary statistics for Insuling Resistance Index\n",
    "print(\"STRUCTURAL OVERVIEW:\")\n",
    "print(df['Insulin_Resistance_Index'].info())\n",
    "print()\n",
    "print(\"FIRST FIVE rows:\")\n",
    "print(df['Insulin_Resistance_Index'].head())\n",
    "print()\n",
    "print(\"SUMMARY STATISTICS:\")\n",
    "print(df['Insulin_Resistance_Index'].describe())"
   ]
  },
  {
   "cell_type": "markdown",
   "id": "9523d3d8",
   "metadata": {},
   "source": [
    "The \"Physical Activity Score\" ranges from 1 to 9, and although numerically encoded, it represents categories of activity levels, not a continuous or ordered numeric scale. We will convert it to the category type to signal to pandas and ML models that it is a categorical feature, allowing for correct preprocessing later. We are preparing the feature or appropriate encoding during model training."
   ]
  },
  {
   "cell_type": "code",
   "execution_count": 72,
   "id": "bc1d51ba",
   "metadata": {},
   "outputs": [],
   "source": [
    "# Encode categorical feature (Physical Activity Score)\n",
    "df['Physical Activity Score'] = df['Physical Activity Score'].astype('category') # Correct data type for encoding"
   ]
  },
  {
   "cell_type": "markdown",
   "id": "88343d19",
   "metadata": {},
   "source": [
    "We will also encode the target variable from the categorical to numerical format, which is necessary for ML models.\n",
    "The original \"Diabetes\" column contains strings: \"Yes\" for diabetic and \"No\" for non-diabetic.\n",
    "\n",
    ".map({'Yes': 1, 'No': 0}) converts:\n",
    "\n",
    "- 'Yes' → 1 (positive class: has diabetes)\n",
    "\n",
    "- 'No' → 0 (negative class: no diabetes)\n",
    "\n",
    "Most machine learning models require the target variable to be numeric, especially for binary classification tasks. This transformation allows the model to interpret \"Diabetes\" as a binary outcome."
   ]
  },
  {
   "cell_type": "code",
   "execution_count": 73,
   "id": "97bf72ef",
   "metadata": {},
   "outputs": [],
   "source": [
    "# Encode target\n",
    "df['Diabetes'] = df['Diabetes'].map({'Yes': 1, 'No': 0}) # Binary encoding for classification"
   ]
  },
  {
   "cell_type": "markdown",
   "id": "d8d268f7",
   "metadata": {},
   "source": [
    "# Train-Test Split"
   ]
  },
  {
   "cell_type": "code",
   "execution_count": 74,
   "id": "35119214",
   "metadata": {},
   "outputs": [],
   "source": [
    "from sklearn.model_selection import train_test_split\n",
    "\n",
    "X = df.drop(columns='Diabetes') # Features\n",
    "y = df['Diabetes'] # Target Variable\n",
    "\n",
    "X_train, X_test, y_train, y_test = train_test_split(X, y, test_size=0.2, stratify=y, random_state=42)\n"
   ]
  },
  {
   "cell_type": "code",
   "execution_count": 75,
   "id": "000cec71",
   "metadata": {},
   "outputs": [],
   "source": [
    "# One-hot encoding for categorical variables\n",
    "# Convert categorical variables (like Physical Activity Score) into dummy/indicator variables for ML model input\n",
    "# drop_first=True avoids multicollinearity by dropping the first category\n",
    "X_train = pd.get_dummies(X_train, drop_first=True) # Create dummy variables for Physical Activity Score\n",
    "X_test = pd.get_dummies(X_test, drop_first=True) # Ensure text set matches training set encoding"
   ]
  },
  {
   "cell_type": "code",
   "execution_count": 76,
   "id": "03e9eec2",
   "metadata": {},
   "outputs": [
    {
     "data": {
      "text/html": [
       "<div>\n",
       "<style scoped>\n",
       "    .dataframe tbody tr th:only-of-type {\n",
       "        vertical-align: middle;\n",
       "    }\n",
       "\n",
       "    .dataframe tbody tr th {\n",
       "        vertical-align: top;\n",
       "    }\n",
       "\n",
       "    .dataframe thead th {\n",
       "        text-align: right;\n",
       "    }\n",
       "</style>\n",
       "<table border=\"1\" class=\"dataframe\">\n",
       "  <thead>\n",
       "    <tr style=\"text-align: right;\">\n",
       "      <th></th>\n",
       "      <th>Age</th>\n",
       "      <th>BMI</th>\n",
       "      <th>Blood Pressure</th>\n",
       "      <th>Glucose Level</th>\n",
       "      <th>Insulin Level</th>\n",
       "      <th>BMI_Age_Ratio</th>\n",
       "      <th>Insulin_Resistance_Index</th>\n",
       "      <th>Physical Activity Score_2</th>\n",
       "      <th>Physical Activity Score_3</th>\n",
       "      <th>Physical Activity Score_4</th>\n",
       "      <th>Physical Activity Score_5</th>\n",
       "      <th>Physical Activity Score_6</th>\n",
       "      <th>Physical Activity Score_7</th>\n",
       "      <th>Physical Activity Score_8</th>\n",
       "      <th>Physical Activity Score_9</th>\n",
       "    </tr>\n",
       "  </thead>\n",
       "  <tbody>\n",
       "    <tr>\n",
       "      <th>64</th>\n",
       "      <td>63</td>\n",
       "      <td>22.6</td>\n",
       "      <td>79.2</td>\n",
       "      <td>103.5</td>\n",
       "      <td>60.6</td>\n",
       "      <td>0.358730</td>\n",
       "      <td>6272.10</td>\n",
       "      <td>False</td>\n",
       "      <td>False</td>\n",
       "      <td>False</td>\n",
       "      <td>False</td>\n",
       "      <td>False</td>\n",
       "      <td>False</td>\n",
       "      <td>False</td>\n",
       "      <td>True</td>\n",
       "    </tr>\n",
       "    <tr>\n",
       "      <th>179</th>\n",
       "      <td>28</td>\n",
       "      <td>38.7</td>\n",
       "      <td>74.1</td>\n",
       "      <td>96.0</td>\n",
       "      <td>78.5</td>\n",
       "      <td>1.382143</td>\n",
       "      <td>7536.00</td>\n",
       "      <td>False</td>\n",
       "      <td>False</td>\n",
       "      <td>False</td>\n",
       "      <td>False</td>\n",
       "      <td>False</td>\n",
       "      <td>False</td>\n",
       "      <td>False</td>\n",
       "      <td>True</td>\n",
       "    </tr>\n",
       "    <tr>\n",
       "      <th>244</th>\n",
       "      <td>44</td>\n",
       "      <td>18.8</td>\n",
       "      <td>84.8</td>\n",
       "      <td>135.8</td>\n",
       "      <td>109.8</td>\n",
       "      <td>0.427273</td>\n",
       "      <td>14910.84</td>\n",
       "      <td>False</td>\n",
       "      <td>False</td>\n",
       "      <td>True</td>\n",
       "      <td>False</td>\n",
       "      <td>False</td>\n",
       "      <td>False</td>\n",
       "      <td>False</td>\n",
       "      <td>False</td>\n",
       "    </tr>\n",
       "    <tr>\n",
       "      <th>268</th>\n",
       "      <td>39</td>\n",
       "      <td>19.3</td>\n",
       "      <td>90.6</td>\n",
       "      <td>147.3</td>\n",
       "      <td>67.4</td>\n",
       "      <td>0.494872</td>\n",
       "      <td>9928.02</td>\n",
       "      <td>False</td>\n",
       "      <td>False</td>\n",
       "      <td>True</td>\n",
       "      <td>False</td>\n",
       "      <td>False</td>\n",
       "      <td>False</td>\n",
       "      <td>False</td>\n",
       "      <td>False</td>\n",
       "    </tr>\n",
       "    <tr>\n",
       "      <th>38</th>\n",
       "      <td>40</td>\n",
       "      <td>29.1</td>\n",
       "      <td>76.3</td>\n",
       "      <td>75.1</td>\n",
       "      <td>149.0</td>\n",
       "      <td>0.727500</td>\n",
       "      <td>11189.90</td>\n",
       "      <td>False</td>\n",
       "      <td>False</td>\n",
       "      <td>False</td>\n",
       "      <td>False</td>\n",
       "      <td>False</td>\n",
       "      <td>False</td>\n",
       "      <td>True</td>\n",
       "      <td>False</td>\n",
       "    </tr>\n",
       "  </tbody>\n",
       "</table>\n",
       "</div>"
      ],
      "text/plain": [
       "     Age   BMI  Blood Pressure  Glucose Level  Insulin Level  BMI_Age_Ratio  \\\n",
       "64    63  22.6            79.2          103.5           60.6       0.358730   \n",
       "179   28  38.7            74.1           96.0           78.5       1.382143   \n",
       "244   44  18.8            84.8          135.8          109.8       0.427273   \n",
       "268   39  19.3            90.6          147.3           67.4       0.494872   \n",
       "38    40  29.1            76.3           75.1          149.0       0.727500   \n",
       "\n",
       "     Insulin_Resistance_Index  Physical Activity Score_2  \\\n",
       "64                    6272.10                      False   \n",
       "179                   7536.00                      False   \n",
       "244                  14910.84                      False   \n",
       "268                   9928.02                      False   \n",
       "38                   11189.90                      False   \n",
       "\n",
       "     Physical Activity Score_3  Physical Activity Score_4  \\\n",
       "64                       False                      False   \n",
       "179                      False                      False   \n",
       "244                      False                       True   \n",
       "268                      False                       True   \n",
       "38                       False                      False   \n",
       "\n",
       "     Physical Activity Score_5  Physical Activity Score_6  \\\n",
       "64                       False                      False   \n",
       "179                      False                      False   \n",
       "244                      False                      False   \n",
       "268                      False                      False   \n",
       "38                       False                      False   \n",
       "\n",
       "     Physical Activity Score_7  Physical Activity Score_8  \\\n",
       "64                       False                      False   \n",
       "179                      False                      False   \n",
       "244                      False                      False   \n",
       "268                      False                      False   \n",
       "38                       False                       True   \n",
       "\n",
       "     Physical Activity Score_9  \n",
       "64                        True  \n",
       "179                       True  \n",
       "244                      False  \n",
       "268                      False  \n",
       "38                       False  "
      ]
     },
     "execution_count": 76,
     "metadata": {},
     "output_type": "execute_result"
    }
   ],
   "source": [
    "# A preview after encoding Physical Activity Score\n",
    "X_train.head()"
   ]
  },
  {
   "cell_type": "markdown",
   "id": "7303f616",
   "metadata": {},
   "source": [
    "# Modeling"
   ]
  },
  {
   "cell_type": "markdown",
   "id": "6d8755ed",
   "metadata": {},
   "source": [
    "## Model 1: Logistic Regression (With GridSearchCV)"
   ]
  },
  {
   "cell_type": "code",
   "execution_count": 77,
   "id": "e6678274",
   "metadata": {},
   "outputs": [],
   "source": [
    "from sklearn.linear_model import LogisticRegression\n",
    "from sklearn.pipeline import Pipeline\n",
    "from sklearn.preprocessing import StandardScaler\n",
    "from sklearn.model_selection import GridSearchCV\n"
   ]
  },
  {
   "cell_type": "code",
   "execution_count": 78,
   "id": "08535bda",
   "metadata": {},
   "outputs": [],
   "source": [
    "# Create pipeline with scaler and logistic regression\n",
    "logreg_pipeline = Pipeline([\n",
    "    ('scaler', StandardScaler()),  # Standardize features for better model convergence\n",
    "    ('clf', LogisticRegression(class_weight='balanced', max_iter=1000))  # Logistic Regression model\n",
    "])"
   ]
  },
  {
   "cell_type": "code",
   "execution_count": 79,
   "id": "f8d44381",
   "metadata": {},
   "outputs": [],
   "source": [
    "# Define hyperparameter grid\n",
    "logreg_params = {\n",
    "    'clf__C': [0.01, 0.1, 1, 10],  # Regularization strength\n",
    "    'clf__penalty': ['l2'],  # Use L2 regularization\n",
    "    'clf__solver': ['lbfgs']  # Solver for optimization\n",
    "}"
   ]
  },
  {
   "cell_type": "code",
   "execution_count": 80,
   "id": "bbc28943",
   "metadata": {},
   "outputs": [
    {
     "name": "stdout",
     "output_type": "stream",
     "text": [
      "Best parameters for Logistic Regression: {'clf__C': 0.01, 'clf__penalty': 'l2', 'clf__solver': 'lbfgs'}\n"
     ]
    }
   ],
   "source": [
    "# Use GridSearchCV to find best parameters\n",
    "grid_logreg = GridSearchCV(logreg_pipeline, logreg_params, cv=5, scoring='f1', n_jobs=-1)\n",
    "grid_logreg.fit(X_train, y_train)\n",
    "print(\"Best parameters for Logistic Regression:\", grid_logreg.best_params_)"
   ]
  },
  {
   "cell_type": "markdown",
   "id": "b28e40bd",
   "metadata": {},
   "source": [
    "## Model 2: Random Forest (with GridSearchCV)"
   ]
  },
  {
   "cell_type": "code",
   "execution_count": 81,
   "id": "6675538a",
   "metadata": {},
   "outputs": [],
   "source": [
    "from sklearn.ensemble import RandomForestClassifier"
   ]
  },
  {
   "cell_type": "code",
   "execution_count": 82,
   "id": "b47ee3fc",
   "metadata": {},
   "outputs": [],
   "source": [
    "# Create pipeline with scaler and random forest classifier\n",
    "rf_pipeline = Pipeline([\n",
    "    ('scaler', StandardScaler()),\n",
    "    ('clf', RandomForestClassifier(random_state=42, class_weight='balanced'))\n",
    "])"
   ]
  },
  {
   "cell_type": "code",
   "execution_count": 83,
   "id": "43ca6231",
   "metadata": {},
   "outputs": [],
   "source": [
    "# Define hyperparameter grid\n",
    "rf_params = {\n",
    "    'clf__n_estimators': [100, 200],  # Number of trees\n",
    "    'clf__max_depth': [None, 5, 10],  # Tree depth\n",
    "    'clf__min_samples_split': [2, 5],  # Minimum samples for internal node split\n",
    "}"
   ]
  },
  {
   "cell_type": "code",
   "execution_count": 84,
   "id": "a2481ab1",
   "metadata": {},
   "outputs": [
    {
     "name": "stdout",
     "output_type": "stream",
     "text": [
      "Best parameters for Random Forest: {'clf__max_depth': 5, 'clf__min_samples_split': 2, 'clf__n_estimators': 100}\n"
     ]
    }
   ],
   "source": [
    "# Use GridSearchCV for hyperparameter tuning\n",
    "grid_rf = GridSearchCV(rf_pipeline, rf_params, cv=5, scoring='f1', n_jobs=-1)\n",
    "grid_rf.fit(X_train, y_train)\n",
    "print(\"Best parameters for Random Forest:\", grid_rf.best_params_)"
   ]
  },
  {
   "cell_type": "markdown",
   "id": "a44881a6",
   "metadata": {},
   "source": [
    "## Model Evaluation and Comparison"
   ]
  },
  {
   "cell_type": "code",
   "execution_count": 85,
   "id": "688a07d7",
   "metadata": {},
   "outputs": [],
   "source": [
    "from sklearn.metrics import accuracy_score, precision_score, recall_score, f1_score, roc_auc_score"
   ]
  },
  {
   "cell_type": "code",
   "execution_count": 86,
   "id": "8aadc653",
   "metadata": {},
   "outputs": [],
   "source": [
    "models = {\n",
    "    \"Logistic Regression\": grid_logreg.best_estimator_,\n",
    "    \"Random Forest\": grid_rf.best_estimator_\n",
    "}\n",
    "\n",
    "results = []"
   ]
  },
  {
   "cell_type": "code",
   "execution_count": 87,
   "id": "a26c466a",
   "metadata": {},
   "outputs": [],
   "source": [
    "# Loop through each model and evaluate on test set\n",
    "for name, model in models.items():\n",
    "    y_pred = model.predict(X_test)\n",
    "    y_proba = model.predict_proba(X_test)[:, 1]  # Probabilities for ROC AUC\n",
    "    results.append({\n",
    "        'Model': name,\n",
    "        'Accuracy': accuracy_score(y_test, y_pred),\n",
    "        'Precision': precision_score(y_test, y_pred),\n",
    "        'Recall': recall_score(y_test, y_pred),\n",
    "        'F1 Score': f1_score(y_test, y_pred),\n",
    "        'ROC AUC': roc_auc_score(y_test, y_proba)\n",
    "    })"
   ]
  },
  {
   "cell_type": "code",
   "execution_count": 88,
   "id": "8db13f64",
   "metadata": {},
   "outputs": [
    {
     "name": "stdout",
     "output_type": "stream",
     "text": [
      "                 Model  Accuracy  Precision    Recall  F1 Score   ROC AUC\n",
      "0  Logistic Regression  0.566667   0.333333  0.444444  0.380952  0.580688\n",
      "1        Random Forest  0.633333   0.250000  0.111111  0.153846  0.518519\n"
     ]
    }
   ],
   "source": [
    "# Convert to DataFrame for display\n",
    "results_df = pd.DataFrame(results)\n",
    "print(results_df)"
   ]
  }
 ],
 "metadata": {
  "kernelspec": {
   "display_name": "myenv",
   "language": "python",
   "name": "python3"
  },
  "language_info": {
   "codemirror_mode": {
    "name": "ipython",
    "version": 3
   },
   "file_extension": ".py",
   "mimetype": "text/x-python",
   "name": "python",
   "nbconvert_exporter": "python",
   "pygments_lexer": "ipython3",
   "version": "3.11.10"
  }
 },
 "nbformat": 4,
 "nbformat_minor": 5
}
